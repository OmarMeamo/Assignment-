{
 "cells": [
  {
   "cell_type": "code",
   "execution_count": 10,
   "id": "060a9e94",
   "metadata": {},
   "outputs": [
    {
     "name": "stdout",
     "output_type": "stream",
     "text": [
      "  (New Weights):        [0.14977620785823142, 0.19971767779654043, 0.24977620785823143, 0.2997176777965404, 0.35915206536439825, 0.4617822085424249, 0.45915206536439823, 0.561782208542425] (New Biases):       [0.33987771309543713, 0.5511069706569471]  (The Total Error:)        0.30365823523481383\n"
     ]
    }
   ],
   "source": [
    "def sigmoid(x): return 1 / (1 + (2.71828 ** -x))\n",
    "def sigmoid_derivative(x): return x * (1 - x)\n",
    "\n",
    "def forward(i1, i2, w, b):\n",
    "    h1 = sigmoid(i1 * w[0] + i2 * w[2] + b[0])\n",
    "    h2 = sigmoid(i1 * w[1] + i2 * w[3] + b[0])\n",
    "    o1 = sigmoid(h1 * w[4] + h2 * w[6] + b[1])\n",
    "    o2 = sigmoid(h1 * w[5] + h2 * w[7] + b[1])\n",
    "    return h1, h2, o1, o2\n",
    "\n",
    "def backward(i1, i2, w, b, t1, t2, lr=0.5):\n",
    "    h1, h2, o1, o2 = forward(i1, i2, w, b)\n",
    "    d_o1, d_o2 = (t1 - o1) * sigmoid_derivative(o1), (t2 - o2) * sigmoid_derivative(o2)\n",
    "    d_h1 = (d_o1 * w[4] + d_o2 * w[5]) * sigmoid_derivative(h1)\n",
    "    d_h2 = (d_o1 * w[6] + d_o2 * w[7]) * sigmoid_derivative(h2)\n",
    "    \n",
    "    w[:4] = [w[i] + lr * d_h1 * i1 if i % 2 == 0 else w[i] + lr * d_h2 * i1 for i in range(4)]\n",
    "    w[4:] = [w[i] + lr * d_o1 * h1 if i % 2 == 0 else w[i] + lr * d_o2 * h1 for i in range(4, 8)]\n",
    "    b[0] += lr * (d_h1 + d_h2)\n",
    "    b[1] += lr * (d_o1 + d_o2)\n",
    "    return ((t1 - o1)**2 + (t2 - o2)**2) / 2, w, b\n",
    "\n",
    "i1, i2, w, b = 0.05, 0.10, [0.15, 0.20, 0.25, 0.30, 0.40, 0.45, 0.50, 0.55], [0.35, 0.60]\n",
    "error, w, b = backward(i1, i2, w, b, 0.01, 0.99)\n",
    "print(\"  (New Weights):   \"  ,  \"   \", w, \"(New Biases):   \", \"  \", b,  \" (The Total Error:)   \",  \"   \", error)\n"
   ]
  },
  {
   "cell_type": "code",
   "execution_count": null,
   "id": "696730fe",
   "metadata": {},
   "outputs": [],
   "source": []
  }
 ],
 "metadata": {
  "kernelspec": {
   "display_name": "Python 3 (ipykernel)",
   "language": "python",
   "name": "python3"
  },
  "language_info": {
   "codemirror_mode": {
    "name": "ipython",
    "version": 3
   },
   "file_extension": ".py",
   "mimetype": "text/x-python",
   "name": "python",
   "nbconvert_exporter": "python",
   "pygments_lexer": "ipython3",
   "version": "3.9.12"
  }
 },
 "nbformat": 4,
 "nbformat_minor": 5
}
